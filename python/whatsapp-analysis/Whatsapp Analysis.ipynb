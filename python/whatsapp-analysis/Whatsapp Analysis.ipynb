{
 "cells": [
  {
   "cell_type": "code",
   "execution_count": 1,
   "metadata": {
    "collapsed": false
   },
   "outputs": [],
   "source": [
    "# Initializing stuff\n",
    "import numpy as np\n",
    "import pandas as pd\n",
    "import matplotlib.pyplot as plt\n",
    "import warnings\n",
    "%matplotlib inline\n",
    "warnings.filterwarnings('ignore')\n",
    "pd.set_option('display.max_columns', 20)\n",
    "pd.set_option('display.max_rows', 25)"
   ]
  },
  {
   "cell_type": "code",
   "execution_count": 3,
   "metadata": {
    "collapsed": false
   },
   "outputs": [
    {
     "data": {
      "text/html": [
       "<div>\n",
       "<table border=\"1\" class=\"dataframe\">\n",
       "  <thead>\n",
       "    <tr style=\"text-align: right;\">\n",
       "      <th></th>\n",
       "      <th>author</th>\n",
       "      <th>date</th>\n",
       "      <th>dialog</th>\n",
       "      <th>dialog_type</th>\n",
       "    </tr>\n",
       "  </thead>\n",
       "  <tbody>\n",
       "    <tr>\n",
       "      <th>5488</th>\n",
       "      <td>S</td>\n",
       "      <td>2016-06-18 10:39:00</td>\n",
       "      <td>Tu</td>\n",
       "      <td>default</td>\n",
       "    </tr>\n",
       "    <tr>\n",
       "      <th>6154</th>\n",
       "      <td>Brown Bear</td>\n",
       "      <td>2016-03-07 14:20:00</td>\n",
       "      <td>SBI mein gaya toh bhai education loan ka kar kuch</td>\n",
       "      <td>default</td>\n",
       "    </tr>\n",
       "    <tr>\n",
       "      <th>2223</th>\n",
       "      <td>Brown Bear</td>\n",
       "      <td>2016-02-14 11:54:00</td>\n",
       "      <td>Pencil challenge karna hai ab</td>\n",
       "      <td>default</td>\n",
       "    </tr>\n",
       "    <tr>\n",
       "      <th>912</th>\n",
       "      <td>Anil Kapoor</td>\n",
       "      <td>2015-11-13 00:16:00</td>\n",
       "      <td>Nahi</td>\n",
       "      <td>default</td>\n",
       "    </tr>\n",
       "    <tr>\n",
       "      <th>5391</th>\n",
       "      <td>Brown Bear</td>\n",
       "      <td>2016-06-16 22:44:00</td>\n",
       "      <td>Corona 550 ka hai</td>\n",
       "      <td>default</td>\n",
       "    </tr>\n",
       "    <tr>\n",
       "      <th>1617</th>\n",
       "      <td>Brown Bear</td>\n",
       "      <td>2016-01-20 22:56:00</td>\n",
       "      <td>Wahi</td>\n",
       "      <td>default</td>\n",
       "    </tr>\n",
       "    <tr>\n",
       "      <th>2613</th>\n",
       "      <td>N</td>\n",
       "      <td>2016-06-03 11:15:00</td>\n",
       "      <td>Kl hi pta chala...will be in mumbai</td>\n",
       "      <td>default</td>\n",
       "    </tr>\n",
       "    <tr>\n",
       "      <th>752</th>\n",
       "      <td>Brown Bear</td>\n",
       "      <td>2015-10-11 23:02:00</td>\n",
       "      <td>Koi aur jagah ata hoga na raste mein</td>\n",
       "      <td>default</td>\n",
       "    </tr>\n",
       "    <tr>\n",
       "      <th>5272</th>\n",
       "      <td>Brown Bear</td>\n",
       "      <td>2016-06-16 21:59:00</td>\n",
       "      <td>Kitne log hai aur</td>\n",
       "      <td>default</td>\n",
       "    </tr>\n",
       "    <tr>\n",
       "      <th>3207</th>\n",
       "      <td>Brown Bear</td>\n",
       "      <td>2016-03-31 21:52:00</td>\n",
       "      <td>Sahi camera crew hai</td>\n",
       "      <td>default</td>\n",
       "    </tr>\n",
       "  </tbody>\n",
       "</table>\n",
       "</div>"
      ],
      "text/plain": [
       "           author                date  \\\n",
       "5488            S 2016-06-18 10:39:00   \n",
       "6154   Brown Bear 2016-03-07 14:20:00   \n",
       "2223   Brown Bear 2016-02-14 11:54:00   \n",
       "912   Anil Kapoor 2015-11-13 00:16:00   \n",
       "5391   Brown Bear 2016-06-16 22:44:00   \n",
       "1617   Brown Bear 2016-01-20 22:56:00   \n",
       "2613            N 2016-06-03 11:15:00   \n",
       "752    Brown Bear 2015-10-11 23:02:00   \n",
       "5272   Brown Bear 2016-06-16 21:59:00   \n",
       "3207   Brown Bear 2016-03-31 21:52:00   \n",
       "\n",
       "                                                 dialog dialog_type  \n",
       "5488                                                 Tu     default  \n",
       "6154  SBI mein gaya toh bhai education loan ka kar kuch     default  \n",
       "2223                      Pencil challenge karna hai ab     default  \n",
       "912                                                Nahi     default  \n",
       "5391                                  Corona 550 ka hai     default  \n",
       "1617                                               Wahi     default  \n",
       "2613                Kl hi pta chala...will be in mumbai     default  \n",
       "752                Koi aur jagah ata hoga na raste mein     default  \n",
       "5272                                  Kitne log hai aur     default  \n",
       "3207                               Sahi camera crew hai     default  "
      ]
     },
     "execution_count": 3,
     "metadata": {},
     "output_type": "execute_result"
    }
   ],
   "source": [
    "file_name = \"ignore_dir/whatsapp_stats.json\"\n",
    "all_data_df = pd.read_json(file_name)\n",
    "all_data_df.sample(10)"
   ]
  },
  {
   "cell_type": "code",
   "execution_count": 4,
   "metadata": {
    "collapsed": false
   },
   "outputs": [],
   "source": [
    "# Getting only the chat data, not the notif/message etc.\n",
    "chat_df = all_data_df[all_data_df['dialog_type'] == 'default']\n",
    "del chat_df['dialog_type']"
   ]
  },
  {
   "cell_type": "code",
   "execution_count": 5,
   "metadata": {
    "collapsed": false
   },
   "outputs": [
    {
     "data": {
      "text/html": [
       "<div>\n",
       "<table border=\"1\" class=\"dataframe\">\n",
       "  <thead>\n",
       "    <tr style=\"text-align: right;\">\n",
       "      <th></th>\n",
       "      <th>Number of Chats</th>\n",
       "    </tr>\n",
       "    <tr>\n",
       "      <th>author</th>\n",
       "      <th></th>\n",
       "    </tr>\n",
       "  </thead>\n",
       "  <tbody>\n",
       "    <tr>\n",
       "      <th>GSOC wala</th>\n",
       "      <td>1852</td>\n",
       "    </tr>\n",
       "    <tr>\n",
       "      <th>Brown Bear</th>\n",
       "      <td>1744</td>\n",
       "    </tr>\n",
       "    <tr>\n",
       "      <th>IIM wala</th>\n",
       "      <td>788</td>\n",
       "    </tr>\n",
       "    <tr>\n",
       "      <th>Anil Kapoor</th>\n",
       "      <td>678</td>\n",
       "    </tr>\n",
       "    <tr>\n",
       "      <th>Me</th>\n",
       "      <td>511</td>\n",
       "    </tr>\n",
       "    <tr>\n",
       "      <th>Bolts</th>\n",
       "      <td>343</td>\n",
       "    </tr>\n",
       "    <tr>\n",
       "      <th>R</th>\n",
       "      <td>225</td>\n",
       "    </tr>\n",
       "    <tr>\n",
       "      <th>N</th>\n",
       "      <td>194</td>\n",
       "    </tr>\n",
       "    <tr>\n",
       "      <th>S</th>\n",
       "      <td>179</td>\n",
       "    </tr>\n",
       "  </tbody>\n",
       "</table>\n",
       "</div>"
      ],
      "text/plain": [
       "             Number of Chats\n",
       "author                      \n",
       "GSOC wala               1852\n",
       "Brown Bear              1744\n",
       "IIM wala                 788\n",
       "Anil Kapoor              678\n",
       "Me                       511\n",
       "Bolts                    343\n",
       "R                        225\n",
       "N                        194\n",
       "S                        179"
      ]
     },
     "execution_count": 5,
     "metadata": {},
     "output_type": "execute_result"
    }
   ],
   "source": [
    "# Find the total number of chats per person\n",
    "chat_df.groupby(['author'])[['dialog']] \\\n",
    "    .count() \\\n",
    "    .sort_values('dialog', ascending=False) \\\n",
    "    .rename(columns={'dialog':'Number of Chats'})"
   ]
  },
  {
   "cell_type": "code",
   "execution_count": 6,
   "metadata": {
    "collapsed": false
   },
   "outputs": [
    {
     "data": {
      "text/html": [
       "<div>\n",
       "<table border=\"1\" class=\"dataframe\">\n",
       "  <thead>\n",
       "    <tr style=\"text-align: right;\">\n",
       "      <th></th>\n",
       "      <th>author</th>\n",
       "      <th>date</th>\n",
       "      <th>dialog</th>\n",
       "    </tr>\n",
       "  </thead>\n",
       "  <tbody>\n",
       "    <tr>\n",
       "      <th>2</th>\n",
       "      <td>IIM wala</td>\n",
       "      <td>21:13:00</td>\n",
       "      <td>&lt;Media omitted&gt;</td>\n",
       "    </tr>\n",
       "    <tr>\n",
       "      <th>3</th>\n",
       "      <td>GSOC wala</td>\n",
       "      <td>23:49:00</td>\n",
       "      <td>Kal ka plan karo</td>\n",
       "    </tr>\n",
       "    <tr>\n",
       "      <th>4</th>\n",
       "      <td>Bolts</td>\n",
       "      <td>21:00:00</td>\n",
       "      <td>http://m.shopclues.com/cow-dung-cakes-gobar-up...</td>\n",
       "    </tr>\n",
       "    <tr>\n",
       "      <th>5</th>\n",
       "      <td>Bolts</td>\n",
       "      <td>21:04:00</td>\n",
       "      <td>Sab kuch online milta hai bc</td>\n",
       "    </tr>\n",
       "    <tr>\n",
       "      <th>6</th>\n",
       "      <td>GSOC wala</td>\n",
       "      <td>01:32:00</td>\n",
       "      <td>&lt;Media omitted&gt;</td>\n",
       "    </tr>\n",
       "    <tr>\n",
       "      <th>7</th>\n",
       "      <td>IIM wala</td>\n",
       "      <td>13:17:00</td>\n",
       "      <td>&lt;Media omitted&gt;</td>\n",
       "    </tr>\n",
       "    <tr>\n",
       "      <th>8</th>\n",
       "      <td>Bolts</td>\n",
       "      <td>13:45:00</td>\n",
       "      <td>Bhai aadi ko maro sabse phele bc phir jaha jan...</td>\n",
       "    </tr>\n",
       "    <tr>\n",
       "      <th>9</th>\n",
       "      <td>Bolts</td>\n",
       "      <td>13:46:00</td>\n",
       "      <td>Ab toh woh chala jayega phir</td>\n",
       "    </tr>\n",
       "    <tr>\n",
       "      <th>10</th>\n",
       "      <td>Bolts</td>\n",
       "      <td>13:46:00</td>\n",
       "      <td>Agle 5 se 6 years ke bday bumps bhi sath mein</td>\n",
       "    </tr>\n",
       "    <tr>\n",
       "      <th>11</th>\n",
       "      <td>Bolts</td>\n",
       "      <td>13:47:00</td>\n",
       "      <td>Ha wahi bc gmat dene ki jarurat nahi hai</td>\n",
       "    </tr>\n",
       "    <tr>\n",
       "      <th>12</th>\n",
       "      <td>Bolts</td>\n",
       "      <td>13:47:00</td>\n",
       "      <td>Sapne mein jake aa jao</td>\n",
       "    </tr>\n",
       "    <tr>\n",
       "      <th>13</th>\n",
       "      <td>GSOC wala</td>\n",
       "      <td>12:10:00</td>\n",
       "      <td>Watch \"Qawwali Version of Sweet Child of Mine\"...</td>\n",
       "    </tr>\n",
       "    <tr>\n",
       "      <th>14</th>\n",
       "      <td>GSOC wala</td>\n",
       "      <td>09:57:00</td>\n",
       "      <td>&lt;Media omitted&gt;</td>\n",
       "    </tr>\n",
       "    <tr>\n",
       "      <th>15</th>\n",
       "      <td>GSOC wala</td>\n",
       "      <td>12:10:00</td>\n",
       "      <td>Yeh sunno</td>\n",
       "    </tr>\n",
       "    <tr>\n",
       "      <th>16</th>\n",
       "      <td>GSOC wala</td>\n",
       "      <td>12:10:00</td>\n",
       "      <td>Yeh kya jagah hai bey</td>\n",
       "    </tr>\n",
       "  </tbody>\n",
       "</table>\n",
       "</div>"
      ],
      "text/plain": [
       "       author      date                                             dialog\n",
       "2    IIM wala  21:13:00                                    <Media omitted>\n",
       "3   GSOC wala  23:49:00                                   Kal ka plan karo\n",
       "4       Bolts  21:00:00  http://m.shopclues.com/cow-dung-cakes-gobar-up...\n",
       "5       Bolts  21:04:00                       Sab kuch online milta hai bc\n",
       "6   GSOC wala  01:32:00                                    <Media omitted>\n",
       "7    IIM wala  13:17:00                                    <Media omitted>\n",
       "8       Bolts  13:45:00  Bhai aadi ko maro sabse phele bc phir jaha jan...\n",
       "9       Bolts  13:46:00                       Ab toh woh chala jayega phir\n",
       "10      Bolts  13:46:00      Agle 5 se 6 years ke bday bumps bhi sath mein\n",
       "11      Bolts  13:47:00           Ha wahi bc gmat dene ki jarurat nahi hai\n",
       "12      Bolts  13:47:00                             Sapne mein jake aa jao\n",
       "13  GSOC wala  12:10:00  Watch \"Qawwali Version of Sweet Child of Mine\"...\n",
       "14  GSOC wala  09:57:00                                    <Media omitted>\n",
       "15  GSOC wala  12:10:00                                          Yeh sunno\n",
       "16  GSOC wala  12:10:00                              Yeh kya jagah hai bey"
      ]
     },
     "execution_count": 6,
     "metadata": {},
     "output_type": "execute_result"
    }
   ],
   "source": [
    "# Plotting the timeline for chats\n",
    "from datetime import datetime\n",
    "timeline_df = chat_df\n",
    "\n",
    "timeline_df['date'] = timeline_df['date'].apply(datetime.time)\n",
    "timeline_df.head(15)"
   ]
  },
  {
   "cell_type": "code",
   "execution_count": 10,
   "metadata": {
    "collapsed": false
   },
   "outputs": [
    {
     "data": {
      "text/html": [
       "<div>\n",
       "<table border=\"1\" class=\"dataframe\">\n",
       "  <thead>\n",
       "    <tr style=\"text-align: right;\">\n",
       "      <th></th>\n",
       "      <th>author</th>\n",
       "      <th>date</th>\n",
       "    </tr>\n",
       "  </thead>\n",
       "  <tbody>\n",
       "    <tr>\n",
       "      <th>2</th>\n",
       "      <td>IIM wala</td>\n",
       "      <td>21:13:00</td>\n",
       "    </tr>\n",
       "    <tr>\n",
       "      <th>3</th>\n",
       "      <td>GSOC wala</td>\n",
       "      <td>23:49:00</td>\n",
       "    </tr>\n",
       "    <tr>\n",
       "      <th>4</th>\n",
       "      <td>Bolts</td>\n",
       "      <td>21:00:00</td>\n",
       "    </tr>\n",
       "    <tr>\n",
       "      <th>5</th>\n",
       "      <td>Bolts</td>\n",
       "      <td>21:04:00</td>\n",
       "    </tr>\n",
       "    <tr>\n",
       "      <th>6</th>\n",
       "      <td>GSOC wala</td>\n",
       "      <td>01:32:00</td>\n",
       "    </tr>\n",
       "    <tr>\n",
       "      <th>7</th>\n",
       "      <td>IIM wala</td>\n",
       "      <td>13:17:00</td>\n",
       "    </tr>\n",
       "    <tr>\n",
       "      <th>8</th>\n",
       "      <td>Bolts</td>\n",
       "      <td>13:45:00</td>\n",
       "    </tr>\n",
       "    <tr>\n",
       "      <th>9</th>\n",
       "      <td>Bolts</td>\n",
       "      <td>13:46:00</td>\n",
       "    </tr>\n",
       "    <tr>\n",
       "      <th>10</th>\n",
       "      <td>Bolts</td>\n",
       "      <td>13:46:00</td>\n",
       "    </tr>\n",
       "    <tr>\n",
       "      <th>11</th>\n",
       "      <td>Bolts</td>\n",
       "      <td>13:47:00</td>\n",
       "    </tr>\n",
       "  </tbody>\n",
       "</table>\n",
       "</div>"
      ],
      "text/plain": [
       "       author      date\n",
       "2    IIM wala  21:13:00\n",
       "3   GSOC wala  23:49:00\n",
       "4       Bolts  21:00:00\n",
       "5       Bolts  21:04:00\n",
       "6   GSOC wala  01:32:00\n",
       "7    IIM wala  13:17:00\n",
       "8       Bolts  13:45:00\n",
       "9       Bolts  13:46:00\n",
       "10      Bolts  13:46:00\n",
       "11      Bolts  13:47:00"
      ]
     },
     "execution_count": 10,
     "metadata": {},
     "output_type": "execute_result"
    }
   ],
   "source": [
    "del timeline_df['dialog']\n",
    "timeline_df.head(10)"
   ]
  },
  {
   "cell_type": "code",
   "execution_count": 37,
   "metadata": {
    "collapsed": false
   },
   "outputs": [
    {
     "data": {
      "text/plain": [
       "<matplotlib.axes._subplots.AxesSubplot at 0xaf15782c>"
      ]
     },
     "execution_count": 37,
     "metadata": {},
     "output_type": "execute_result"
    },
    {
     "data": {
      "image/png": "[encoded data removed]",
      "text/plain": [
       "<matplotlib.figure.Figure at 0xaf0f6a6c>"
      ]
     },
     "metadata": {},
     "output_type": "display_data"
    }
   ],
   "source": [
    "time_range = timeline_df.groupby(['date'])[['date']].count().rename(columns={'date': 'Number of chats'})\n",
    "time_range.plot(figsize=(20, 20))"
   ]
  },
  {
   "cell_type": "code",
   "execution_count": null,
   "metadata": {
    "collapsed": true
   },
   "outputs": [],
   "source": []
  }
 ],
 "metadata": {
  "kernelspec": {
   "display_name": "Python 2",
   "language": "python",
   "name": "python2"
  },
  "language_info": {
   "codemirror_mode": {
    "name": "ipython",
    "version": 2
   },
   "file_extension": ".py",
   "mimetype": "text/x-python",
   "name": "python",
   "nbconvert_exporter": "python",
   "pygments_lexer": "ipython2",
   "version": "2.7.11+"
  }
 },
 "nbformat": 4,
 "nbformat_minor": 0
}
